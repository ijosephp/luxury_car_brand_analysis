{
 "cells": [
  {
   "cell_type": "markdown",
   "metadata": {},
   "source": [
    "# Text Analytics Group Assignment #1"
   ]
  },
  {
   "cell_type": "markdown",
   "metadata": {},
   "source": [
    "**MIS 284N - Section B**   \n",
    "   \n",
    "**Members:**   \n",
    "Patricia Schutter (pls949)   \n",
    "Sujay Chebbi (sc64344)   \n",
    "Immanuel Ponminissery (ijp284)   \n",
    "Vikram Seth (vs22826)   \n",
    "Lai Jiang (lj9384)"
   ]
  },
  {
   "cell_type": "markdown",
   "metadata": {},
   "source": [
    "## Forum Summary "
   ]
  },
  {
   "cell_type": "markdown",
   "metadata": {},
   "source": [
    "The Edmunds discussion forum from which we chose to scrape data in order to gain insights from social media conversations is titled ***High End Luxury Sedans***.  \n",
    "   \n",
    "While technically the forum exists within the Audi/Audi A8 category, it is used as a general purpose discussion page for users to express opinions on a multitude of luxury car brands and models.  There are 463 pages of forum posts, from which we fetched the 4,500 least recent messages. The range of years in which these messages were posted was 1994-2004.   \n",
    "   \n",
    "The attributes of each message that were scraped and output into a CSV file included **Date, UserID, and Message.**   \n",
    "   \n",
    "The forum can be found at this [URL](https://forums.edmunds.com/discussion/1232/audi/a8/high-end-luxury-cars)."
   ]
  },
  {
   "cell_type": "markdown",
   "metadata": {},
   "source": [
    "## Scraping"
   ]
  },
  {
   "cell_type": "markdown",
   "metadata": {},
   "source": [
    "The following code only executes properly in the *Google Collab* environment."
   ]
  },
  {
   "cell_type": "code",
   "execution_count": null,
   "metadata": {},
   "outputs": [],
   "source": [
    "!pip install selenium\n",
    "!apt-get -q update # to update ubuntu to correctly run APT install\n",
    "!apt install -yq chromium-chromedriver\n",
    "!cp /usr/lib/chromium-browser/chromedriver /usr/bin\n",
    "\n",
    "import sys\n",
    "import pandas as pd\n",
    "import nltk\n",
    "nltk.download('stopwords')\n",
    "from nltk.corpus import stopwords\n",
    "import re\n",
    "sys.path.insert(0,'/usr/lib/chromium-browser/chromedriver')\n",
    "from selenium import webdriver\n",
    "chrome_options = webdriver.ChromeOptions()\n",
    "chrome_options.add_argument('--headless')\n",
    "chrome_options.add_argument('--no-sandbox')\n",
    "chrome_options.add_argument('--disable-dev-shm-usage')\n",
    "chrome_prefs = {}\n",
    "chrome_options.experimental_options[\"prefs\"] = chrome_prefs\n",
    "prefs = {\"profile.managed_default_content_settings.images\": 2}\n",
    "chrome_options.add_experimental_option(\"prefs\", prefs)\n",
    "\n",
    "driver = webdriver.Chrome(options=chrome_options)\n",
    "driver.set_page_load_timeout(600)\n",
    "driver.get('https://forums.edmunds.com/discussion/1232/audi/a8/high-end-luxury-cars')\n",
    "data = pd.DataFrame(columns=['date', 'userid', 'message'])\n",
    "\n",
    "ids = driver.find_elements_by_xpath(\"//*[contains(@id,'Comment_')]\")\n",
    "comment_ids = []\n",
    "\n",
    "#for pages in range(1,5):\n",
    "for i in ids:\n",
    "    comment_ids.append(i.get_attribute('id'))\n",
    "\n",
    "for j in comment_ids:\n",
    "      #Extract dates from for each user on a page\n",
    "      user_date = driver.find_elements_by_xpath('//*[@id=\"' + j +'\"]/div/div[2]/div[2]/span[1]/a/time')[0]\n",
    "      date = user_date.get_attribute('title')\n",
    "\n",
    "      #Extract user ids from each user on a page\n",
    "      userid_element = driver.find_elements_by_xpath('//*[@id=\"' + j +'\"]/div/div[2]/div[1]/span[1]/a[2]')[0]\n",
    "      userid = userid_element.text\n",
    "\n",
    "      #Extract Message for each user on a page\n",
    "      user_message = driver.find_elements_by_xpath('//*[@id=\"' + j +'\"]/div/div[3]/div/div[1]')[0]\n",
    "      comment = user_message.text\n",
    "                                    \n",
    "      #Adding date, userid and comment for each user in a dataframe    \n",
    "      data.loc[len(data)] = [date,userid,comment]\n",
    "        \n",
    "del i,j"
   ]
  },
  {
   "cell_type": "code",
   "execution_count": null,
   "metadata": {},
   "outputs": [],
   "source": [
    "#While Loop used to go through pages of forum\n",
    "\n",
    "page_number = 1\n",
    "while data.shape[0]<4500:\n",
    "  page_number = page_number+1\n",
    "  print(page_number)\n",
    "  new_address = 'https://forums.edmunds.com/discussion/1232/audi/a8/high-end-luxury-cars/p'+str(page_number)\n",
    "  #driver = webdriver.Chrome('chromedriver', options=chrome_options)\n",
    "  driver = webdriver.Chrome(options=chrome_options)\n",
    "  driver.set_page_load_timeout(600)\n",
    "  driver.get(new_address)\n",
    "  ids = driver.find_elements_by_xpath(\"//*[contains(@id,'Comment_')]\")\n",
    "  comment_ids = []\n",
    "  for i in ids:\n",
    "    comment_ids.append(i.get_attribute('id'))\n",
    "  for j in comment_ids:\n",
    "    #Extract dates from for each user on a page\n",
    "    user_date = driver.find_elements_by_xpath('//*[@id=\"' + j +'\"]/div/div[2]/div[2]/span[1]/a/time')[0]\n",
    "    date = user_date.get_attribute('title')\n",
    "\n",
    "    #Extract user ids from each user on a page\n",
    "    userid_element = driver.find_elements_by_xpath('//*[@id=\"' + j +'\"]/div/div[2]/div[1]/span[1]/a[2]')[0]\n",
    "    userid = userid_element.text\n",
    "\n",
    "    #Extract Message for each user on a page\n",
    "    user_message = driver.find_elements_by_xpath('//*[@id=\"' + j +'\"]/div/div[3]/div/div[1]')[0]\n",
    "    comment = user_message.text\n",
    "                                   \n",
    "    #Adding date, userid and comment for each user in a dataframe    \n",
    "    data.loc[len(data)] = [date,userid,comment]"
   ]
  },
  {
   "cell_type": "markdown",
   "metadata": {},
   "source": [
    "The above code, when executed, outputs a CSV file titled *HW1_Data_v2.csv* which we will now read in for further analysis."
   ]
  },
  {
   "cell_type": "code",
   "execution_count": 1,
   "metadata": {},
   "outputs": [
    {
     "data": {
      "text/html": [
       "<div>\n",
       "<style scoped>\n",
       "    .dataframe tbody tr th:only-of-type {\n",
       "        vertical-align: middle;\n",
       "    }\n",
       "\n",
       "    .dataframe tbody tr th {\n",
       "        vertical-align: top;\n",
       "    }\n",
       "\n",
       "    .dataframe thead th {\n",
       "        text-align: right;\n",
       "    }\n",
       "</style>\n",
       "<table border=\"1\" class=\"dataframe\">\n",
       "  <thead>\n",
       "    <tr style=\"text-align: right;\">\n",
       "      <th></th>\n",
       "      <th>date</th>\n",
       "      <th>userid</th>\n",
       "      <th>message</th>\n",
       "    </tr>\n",
       "  </thead>\n",
       "  <tbody>\n",
       "    <tr>\n",
       "      <th>0</th>\n",
       "      <td>November 23, 1999 6:20AM</td>\n",
       "      <td>enigma23</td>\n",
       "      <td>All great cars, so let the discussions begin!!!</td>\n",
       "    </tr>\n",
       "    <tr>\n",
       "      <th>1</th>\n",
       "      <td>November 27, 1999 5:29AM</td>\n",
       "      <td>merc1</td>\n",
       "      <td>I guess no one wants to talk anymore huh?\\n\\nM</td>\n",
       "    </tr>\n",
       "    <tr>\n",
       "      <th>2</th>\n",
       "      <td>November 27, 1999 3:17PM</td>\n",
       "      <td>bmwboys</td>\n",
       "      <td>I was talking wiht a friend of mine about this...</td>\n",
       "    </tr>\n",
       "    <tr>\n",
       "      <th>3</th>\n",
       "      <td>November 27, 1999 6:29PM</td>\n",
       "      <td>bernard1</td>\n",
       "      <td>Currently we own a vehicle from Lexus, both of...</td>\n",
       "    </tr>\n",
       "    <tr>\n",
       "      <th>4</th>\n",
       "      <td>November 27, 1999 9:40PM</td>\n",
       "      <td>merc1</td>\n",
       "      <td>What \"toys\" does the LS400 offer that are not ...</td>\n",
       "    </tr>\n",
       "  </tbody>\n",
       "</table>\n",
       "</div>"
      ],
      "text/plain": [
       "                       date    userid  \\\n",
       "0  November 23, 1999 6:20AM  enigma23   \n",
       "1  November 27, 1999 5:29AM     merc1   \n",
       "2  November 27, 1999 3:17PM   bmwboys   \n",
       "3  November 27, 1999 6:29PM  bernard1   \n",
       "4  November 27, 1999 9:40PM     merc1   \n",
       "\n",
       "                                             message  \n",
       "0    All great cars, so let the discussions begin!!!  \n",
       "1     I guess no one wants to talk anymore huh?\\n\\nM  \n",
       "2  I was talking wiht a friend of mine about this...  \n",
       "3  Currently we own a vehicle from Lexus, both of...  \n",
       "4  What \"toys\" does the LS400 offer that are not ...  "
      ]
     },
     "execution_count": 1,
     "metadata": {},
     "output_type": "execute_result"
    }
   ],
   "source": [
    "import pandas as pd\n",
    "import nltk\n",
    "from nltk.corpus import stopwords\n",
    "import re\n",
    "import sys\n",
    "\n",
    "raw_data = pd.read_csv('HW1_Data_v2.csv', index_col=[0])\n",
    "raw_data.head()"
   ]
  },
  {
   "cell_type": "markdown",
   "metadata": {},
   "source": [
    "Additionally, we read in a CSV file titled *Car models and brands* for a reference of model-brand combinations. "
   ]
  },
  {
   "cell_type": "code",
   "execution_count": 2,
   "metadata": {},
   "outputs": [],
   "source": [
    "cars = pd.read_csv('car models and brands.csv')\n",
    "cars.columns = [\"brand\",\"model\"]"
   ]
  },
  {
   "cell_type": "markdown",
   "metadata": {},
   "source": [
    "## Task A"
   ]
  },
  {
   "cell_type": "markdown",
   "metadata": {},
   "source": [
    "First, we remove all stopwords from the \"Message\" attribute of each post, transform any mention of a specific model into its manufacturing brand name, and removed all duplicate mentions of each brand, allowing us to calculate frequency counts of words in order to identify the *Top 10 Brands by Frequency.*   "
   ]
  },
  {
   "cell_type": "markdown",
   "metadata": {},
   "source": [
    "We first define functions for **data pre-processing** as:"
   ]
  },
  {
   "cell_type": "code",
   "execution_count": 3,
   "metadata": {},
   "outputs": [],
   "source": [
    "#Removing all Stopwords\n",
    "\n",
    "stop_words = set(stopwords.words('english'))\n",
    "\n",
    "#Create a new column of messages without stopwords\n",
    "def rid_stopwords(sentence):\n",
    "  sentence = str(sentence)\n",
    "  sentence = sentence.lower()\n",
    "  sentence_split = re.split('\\s|,|\\.',sentence)\n",
    "  filtered = []\n",
    "  for word in sentence_split:\n",
    "    if word not in stop_words:\n",
    "      filtered.append(word)\n",
    "  sentence = ' '.join(filtered)\n",
    "  return sentence\n",
    "\n",
    "\n",
    "#Replacing Car Model Name with Brand Names\n",
    "def convert_model_to_brand(sentence):\n",
    "  temp = []\n",
    "  sentence = str(sentence)\n",
    "  sentence = sentence.lower()\n",
    "  sentence = re.split('\\s|,|\\.',sentence)\n",
    "  for i in sentence:\n",
    "    if i in list(cars['model']):\n",
    "      address = list(cars['model']).index(i)\n",
    "      temp.append(list(cars['brand'])[address])\n",
    "    else:\n",
    "      temp.append(i)\n",
    "  return ' '.join(temp)\n",
    "\n",
    "#Removing multiple mentions of the same brand name within each message\n",
    "def rid_mult_mentions(sentence):\n",
    "  sentence = str(sentence)\n",
    "  sentence_split = sentence.split()\n",
    "  new_s = []\n",
    "  for i in sentence_split:\n",
    "    if i not in list(cars['brand']):\n",
    "      new_s.append(i)\n",
    "    else:\n",
    "      if new_s.count(i) == 0:\n",
    "        new_s.append(i)\n",
    "  return ' '.join(new_s)"
   ]
  },
  {
   "cell_type": "code",
   "execution_count": 4,
   "metadata": {},
   "outputs": [
    {
     "data": {
      "text/html": [
       "<div>\n",
       "<style scoped>\n",
       "    .dataframe tbody tr th:only-of-type {\n",
       "        vertical-align: middle;\n",
       "    }\n",
       "\n",
       "    .dataframe tbody tr th {\n",
       "        vertical-align: top;\n",
       "    }\n",
       "\n",
       "    .dataframe thead th {\n",
       "        text-align: right;\n",
       "    }\n",
       "</style>\n",
       "<table border=\"1\" class=\"dataframe\">\n",
       "  <thead>\n",
       "    <tr style=\"text-align: right;\">\n",
       "      <th></th>\n",
       "      <th>date</th>\n",
       "      <th>userid</th>\n",
       "      <th>message</th>\n",
       "      <th>message_without_stopwords</th>\n",
       "      <th>message_with_only_model_names</th>\n",
       "      <th>message_only_models_no_stopwords_unique_brand</th>\n",
       "    </tr>\n",
       "  </thead>\n",
       "  <tbody>\n",
       "    <tr>\n",
       "      <th>0</th>\n",
       "      <td>November 23, 1999 6:20AM</td>\n",
       "      <td>enigma23</td>\n",
       "      <td>All great cars, so let the discussions begin!!!</td>\n",
       "      <td>great cars  let discussions begin!!!</td>\n",
       "      <td>great cars  let discussions begin!!!</td>\n",
       "      <td>great cars let discussions begin!!!</td>\n",
       "    </tr>\n",
       "    <tr>\n",
       "      <th>1</th>\n",
       "      <td>November 27, 1999 5:29AM</td>\n",
       "      <td>merc1</td>\n",
       "      <td>I guess no one wants to talk anymore huh?\\n\\nM</td>\n",
       "      <td>guess one wants talk anymore huh?</td>\n",
       "      <td>guess one wants talk anymore huh?</td>\n",
       "      <td>guess one wants talk anymore huh?</td>\n",
       "    </tr>\n",
       "    <tr>\n",
       "      <th>2</th>\n",
       "      <td>November 27, 1999 3:17PM</td>\n",
       "      <td>bmwboys</td>\n",
       "      <td>I was talking wiht a friend of mine about this...</td>\n",
       "      <td>talking wiht friend mine line autos  came conc...</td>\n",
       "      <td>talking wiht friend mine line autos  came conc...</td>\n",
       "      <td>talking wiht friend mine line autos came concl...</td>\n",
       "    </tr>\n",
       "    <tr>\n",
       "      <th>3</th>\n",
       "      <td>November 27, 1999 6:29PM</td>\n",
       "      <td>bernard1</td>\n",
       "      <td>Currently we own a vehicle from Lexus, both of...</td>\n",
       "      <td>currently vehicle lexus  german makes volvo  o...</td>\n",
       "      <td>currently vehicle lexus  german makes volvo  o...</td>\n",
       "      <td>currently vehicle lexus german makes volvo off...</td>\n",
       "    </tr>\n",
       "    <tr>\n",
       "      <th>4</th>\n",
       "      <td>November 27, 1999 9:40PM</td>\n",
       "      <td>merc1</td>\n",
       "      <td>What \"toys\" does the LS400 offer that are not ...</td>\n",
       "      <td>\"toys\" ls400 offer available s-class 7-series ...</td>\n",
       "      <td>\"toys\" lexus offer available mercedes bmw  mea...</td>\n",
       "      <td>\"toys\" lexus offer available mercedes bmw mean...</td>\n",
       "    </tr>\n",
       "  </tbody>\n",
       "</table>\n",
       "</div>"
      ],
      "text/plain": [
       "                       date    userid  \\\n",
       "0  November 23, 1999 6:20AM  enigma23   \n",
       "1  November 27, 1999 5:29AM     merc1   \n",
       "2  November 27, 1999 3:17PM   bmwboys   \n",
       "3  November 27, 1999 6:29PM  bernard1   \n",
       "4  November 27, 1999 9:40PM     merc1   \n",
       "\n",
       "                                             message  \\\n",
       "0    All great cars, so let the discussions begin!!!   \n",
       "1     I guess no one wants to talk anymore huh?\\n\\nM   \n",
       "2  I was talking wiht a friend of mine about this...   \n",
       "3  Currently we own a vehicle from Lexus, both of...   \n",
       "4  What \"toys\" does the LS400 offer that are not ...   \n",
       "\n",
       "                           message_without_stopwords  \\\n",
       "0               great cars  let discussions begin!!!   \n",
       "1                 guess one wants talk anymore huh?    \n",
       "2  talking wiht friend mine line autos  came conc...   \n",
       "3  currently vehicle lexus  german makes volvo  o...   \n",
       "4  \"toys\" ls400 offer available s-class 7-series ...   \n",
       "\n",
       "                       message_with_only_model_names  \\\n",
       "0               great cars  let discussions begin!!!   \n",
       "1                 guess one wants talk anymore huh?    \n",
       "2  talking wiht friend mine line autos  came conc...   \n",
       "3  currently vehicle lexus  german makes volvo  o...   \n",
       "4  \"toys\" lexus offer available mercedes bmw  mea...   \n",
       "\n",
       "       message_only_models_no_stopwords_unique_brand  \n",
       "0                great cars let discussions begin!!!  \n",
       "1                  guess one wants talk anymore huh?  \n",
       "2  talking wiht friend mine line autos came concl...  \n",
       "3  currently vehicle lexus german makes volvo off...  \n",
       "4  \"toys\" lexus offer available mercedes bmw mean...  "
      ]
     },
     "execution_count": 4,
     "metadata": {},
     "output_type": "execute_result"
    }
   ],
   "source": [
    "#Execute the pre-processing functions\n",
    "\n",
    "raw_data['message_without_stopwords'] = raw_data['message'].map(rid_stopwords)\n",
    "\n",
    "raw_data['message_with_only_model_names'] = raw_data['message_without_stopwords'].map(convert_model_to_brand)\n",
    "\n",
    "raw_data['message_only_models_no_stopwords_unique_brand'] = raw_data['message_with_only_model_names'].map(rid_mult_mentions)\n",
    "\n",
    "raw_data.head()"
   ]
  },
  {
   "cell_type": "markdown",
   "metadata": {},
   "source": [
    "After doing the pre-processsing, we exported the adjusted data frame into a new CSV file. From that file we calcualted word frequencies spanning all messages, and found each word's value count."
   ]
  },
  {
   "cell_type": "code",
   "execution_count": 5,
   "metadata": {},
   "outputs": [],
   "source": [
    "raw_data.to_csv(\"hw_1_clean_comments.csv\")\n",
    "word_frequency = raw_data.message_only_models_no_stopwords_unique_brand.str.split(expand=True).stack().value_counts()\n",
    "word_frequency.to_csv(\"hw_1_word_frequency.csv\")"
   ]
  },
  {
   "cell_type": "markdown",
   "metadata": {},
   "source": [
    "   "
   ]
  },
  {
   "cell_type": "markdown",
   "metadata": {},
   "source": [
    "**The Top 10 Brands were identified through an index-match with the DataFrame \"cars\".**"
   ]
  },
  {
   "cell_type": "code",
   "execution_count": 6,
   "metadata": {},
   "outputs": [
    {
     "data": {
      "text/html": [
       "<div>\n",
       "<style scoped>\n",
       "    .dataframe tbody tr th:only-of-type {\n",
       "        vertical-align: middle;\n",
       "    }\n",
       "\n",
       "    .dataframe tbody tr th {\n",
       "        vertical-align: top;\n",
       "    }\n",
       "\n",
       "    .dataframe thead th {\n",
       "        text-align: right;\n",
       "    }\n",
       "</style>\n",
       "<table border=\"1\" class=\"dataframe\">\n",
       "  <thead>\n",
       "    <tr style=\"text-align: right;\">\n",
       "      <th></th>\n",
       "      <th>Brand</th>\n",
       "      <th>Frequency</th>\n",
       "    </tr>\n",
       "  </thead>\n",
       "  <tbody>\n",
       "    <tr>\n",
       "      <th>0</th>\n",
       "      <td>mercedes</td>\n",
       "      <td>1795</td>\n",
       "    </tr>\n",
       "    <tr>\n",
       "      <th>1</th>\n",
       "      <td>lexus</td>\n",
       "      <td>1675</td>\n",
       "    </tr>\n",
       "    <tr>\n",
       "      <th>2</th>\n",
       "      <td>bmw</td>\n",
       "      <td>1533</td>\n",
       "    </tr>\n",
       "    <tr>\n",
       "      <th>3</th>\n",
       "      <td>audi</td>\n",
       "      <td>653</td>\n",
       "    </tr>\n",
       "    <tr>\n",
       "      <th>4</th>\n",
       "      <td>lincoln</td>\n",
       "      <td>617</td>\n",
       "    </tr>\n",
       "    <tr>\n",
       "      <th>5</th>\n",
       "      <td>jaguar</td>\n",
       "      <td>509</td>\n",
       "    </tr>\n",
       "    <tr>\n",
       "      <th>6</th>\n",
       "      <td>toyota</td>\n",
       "      <td>468</td>\n",
       "    </tr>\n",
       "    <tr>\n",
       "      <th>7</th>\n",
       "      <td>infiniti</td>\n",
       "      <td>350</td>\n",
       "    </tr>\n",
       "    <tr>\n",
       "      <th>8</th>\n",
       "      <td>cadillac</td>\n",
       "      <td>261</td>\n",
       "    </tr>\n",
       "    <tr>\n",
       "      <th>9</th>\n",
       "      <td>acura</td>\n",
       "      <td>253</td>\n",
       "    </tr>\n",
       "  </tbody>\n",
       "</table>\n",
       "</div>"
      ],
      "text/plain": [
       "      Brand  Frequency\n",
       "0  mercedes       1795\n",
       "1     lexus       1675\n",
       "2       bmw       1533\n",
       "3      audi        653\n",
       "4   lincoln        617\n",
       "5    jaguar        509\n",
       "6    toyota        468\n",
       "7  infiniti        350\n",
       "8  cadillac        261\n",
       "9     acura        253"
      ]
     },
     "execution_count": 6,
     "metadata": {},
     "output_type": "execute_result"
    }
   ],
   "source": [
    "mask = word_frequency.index.isin(cars['brand'].unique())\n",
    "top_10_brands = word_frequency[mask]\n",
    "top_10_brands = top_10_brands[:10]\n",
    "top_10_brands = top_10_brands.to_frame().reset_index()\n",
    "top_10_brands.columns=['Brand','Frequency']\n",
    "top_10_brands"
   ]
  },
  {
   "cell_type": "code",
   "execution_count": 7,
   "metadata": {},
   "outputs": [],
   "source": [
    "#Define a lift function\n",
    "def lift(calcLiftList, listofcomments, frequencyList):\n",
    "  results = []\n",
    "  totalComments = 4500\n",
    "  for i in calcLiftList:\n",
    "    counter = 0\n",
    "    word_list = i\n",
    "    all_comments = list(listofcomments)\n",
    "    \n",
    "    for comment in all_comments:\n",
    "      comment = str(comment)\n",
    "      comment = comment.split()\n",
    "\n",
    "      temp_1 = comment.count(word_list[0])\n",
    "      temp_2 = comment.count(word_list[1])\n",
    "\n",
    "      if (temp_1>=1) and (temp_2>=1):\n",
    "        counter = counter+1\n",
    "      else:\n",
    "        counter = counter+0\n",
    "  \n",
    "    firstWord = i[0]\n",
    "    secondWord = i[1]\n",
    "    #listFrequency = list(stackedFrequencyList)\n",
    "    listFrequency = list(frequencyList)\n",
    "    firstWordIndex = listFrequency.index(firstWord)\n",
    "    firstWordCountIndex = firstWordIndex+1\n",
    "    firstWordCount = listFrequency[firstWordCountIndex]\n",
    "    secondWordIndex = listFrequency.index(secondWord)\n",
    "    secondWordCountIndex = secondWordIndex+1\n",
    "    secondWordCount = listFrequency[secondWordCountIndex]\n",
    "    lift = (totalComments*counter)/(firstWordCount*secondWordCount)\n",
    "    results.append(i)\n",
    "    results.append(lift)\n",
    "  \n",
    "  return results"
   ]
  },
  {
   "cell_type": "code",
   "execution_count": 8,
   "metadata": {},
   "outputs": [],
   "source": [
    "#Changing the original frequency list to search through it for word counts\n",
    "frequency_list = pd.read_csv('hw_1_word_frequency.csv')\n",
    "frequency_list = frequency_list.rename(columns={'Unnamed: 0':'Word','0':'Count'})\n",
    "frequency_list.set_index('Word')\n",
    "stackedFrequencyList = frequency_list.stack()"
   ]
  },
  {
   "cell_type": "code",
   "execution_count": 9,
   "metadata": {},
   "outputs": [],
   "source": [
    "brandXBrandLiftWordList = pd.read_csv('brand lift words.csv')\n",
    "brandXBrandLiftWordList = list(brandXBrandLiftWordList['combo'])\n",
    "splitbrandXBrandLiftWordList = [brandXBrandLiftWordList[i:i+2] for i in range(0, len(brandXBrandLiftWordList), 2)]"
   ]
  },
  {
   "cell_type": "code",
   "execution_count": 10,
   "metadata": {},
   "outputs": [
    {
     "data": {
      "text/plain": [
       "[['mercedes', 'mercedes'],\n",
       " 2.5069637883008355,\n",
       " ['lexus', 'mercedes'],\n",
       " 1.6209204673013762,\n",
       " ['bmw', 'mercedes'],\n",
       " 1.4521747188591925,\n",
       " ['audi', 'mercedes'],\n",
       " 1.478072065077828,\n",
       " ['lincoln', 'mercedes'],\n",
       " 1.438355236723656,\n",
       " ['jaguar', 'mercedes'],\n",
       " 1.3741510745303205,\n",
       " ['toyota', 'mercedes'],\n",
       " 1.3820441397043068,\n",
       " ['infiniti', 'mercedes'],\n",
       " 1.2892956625547154,\n",
       " ['cadillac', 'mercedes'],\n",
       " 1.2582845067716837,\n",
       " ['acura', 'mercedes'],\n",
       " 1.5854316447752321,\n",
       " ['lexus', 'lexus'],\n",
       " 2.6865671641791047,\n",
       " ['bmw', 'lexus'],\n",
       " 1.335397377106639,\n",
       " ['audi', 'lexus'],\n",
       " 1.3247697195492674,\n",
       " ['lincoln', 'lexus'],\n",
       " 1.785239120443165,\n",
       " ['jaguar', 'lexus'],\n",
       " 1.2878632378383132,\n",
       " ['toyota', 'lexus'],\n",
       " 1.6877152698048221,\n",
       " ['infiniti', 'lexus'],\n",
       " 1.5658848614072494,\n",
       " ['cadillac', 'lexus'],\n",
       " 1.3381369016984046,\n",
       " ['acura', 'lexus'],\n",
       " 1.5822075393782078,\n",
       " ['bmw', 'bmw'],\n",
       " 2.935420743639922,\n",
       " ['audi', 'bmw'],\n",
       " 1.807104347539431,\n",
       " ['lincoln', 'bmw'],\n",
       " 1.3083317739075826,\n",
       " ['jaguar', 'bmw'],\n",
       " 1.6205367956047505,\n",
       " ['toyota', 'bmw'],\n",
       " 1.2732701088865472,\n",
       " ['infiniti', 'bmw'],\n",
       " 1.4006150405367626,\n",
       " ['cadillac', 'bmw'],\n",
       " 1.529567897069078,\n",
       " ['acura', 'bmw'],\n",
       " 1.7171631227616933,\n",
       " ['audi', 'audi'],\n",
       " 6.891271056661562,\n",
       " ['lincoln', 'audi'],\n",
       " 1.2397586503880607,\n",
       " ['jaguar', 'audi'],\n",
       " 2.3828363575096954,\n",
       " ['toyota', 'audi'],\n",
       " 1.060195547178702,\n",
       " ['infiniti', 'audi'],\n",
       " 2.185517392255524,\n",
       " ['cadillac', 'audi'],\n",
       " 2.3498970269842108,\n",
       " ['acura', 'audi'],\n",
       " 1.9883904629893046,\n",
       " ['lincoln', 'lincoln'],\n",
       " 7.293354943273906,\n",
       " ['jaguar', 'lincoln'],\n",
       " 1.2752624557001526,\n",
       " ['toyota', 'lincoln'],\n",
       " 1.4960728088766986,\n",
       " ['infiniti', 'lincoln'],\n",
       " 1.1669367909238249,\n",
       " ['cadillac', 'lincoln'],\n",
       " 1.313362767562734,\n",
       " ['acura', 'lincoln'],\n",
       " 1.4702019846125265,\n",
       " ['jaguar', 'jaguar'],\n",
       " 8.840864440078585,\n",
       " ['toyota', 'jaguar'],\n",
       " 1.2845700468490253,\n",
       " ['infiniti', 'jaguar'],\n",
       " 2.096547852932922,\n",
       " ['cadillac', 'jaguar'],\n",
       " 1.4904139285956235,\n",
       " ['acura', 'jaguar'],\n",
       " 1.3278768724228704,\n",
       " ['toyota', 'toyota'],\n",
       " 9.615384615384615,\n",
       " ['infiniti', 'toyota'],\n",
       " 1.1813186813186813,\n",
       " ['cadillac', 'toyota'],\n",
       " 1.0683760683760684,\n",
       " ['acura', 'toyota'],\n",
       " 1.7482517482517483,\n",
       " ['infiniti', 'infiniti'],\n",
       " 12.857142857142858,\n",
       " ['cadillac', 'infiniti'],\n",
       " 2.2660098522167487,\n",
       " ['acura', 'infiniti'],\n",
       " 3.5064935064935066,\n",
       " ['cadillac', 'cadillac'],\n",
       " 17.24137931034483,\n",
       " ['acura', 'cadillac'],\n",
       " 2.2488755622188905,\n",
       " ['acura', 'acura'],\n",
       " 17.786561264822133]"
      ]
     },
     "execution_count": 10,
     "metadata": {},
     "output_type": "execute_result"
    }
   ],
   "source": [
    "#Read in the Brand x Brand list in\n",
    "clean_data = pd.read_csv(\"hw_1_clean_comments.csv\")\n",
    "lift(splitbrandXBrandLiftWordList,clean_data['message_only_models_no_stopwords_unique_brand'],stackedFrequencyList)"
   ]
  },
  {
   "cell_type": "markdown",
   "metadata": {},
   "source": [
    "Below is the **Similarity (Lift) Matrix** between brands."
   ]
  },
  {
   "cell_type": "code",
   "execution_count": 11,
   "metadata": {},
   "outputs": [],
   "source": [
    "from sklearn import manifold\n",
    "import matplotlib.pyplot as plt\n",
    "import numpy as np\n",
    "import seaborn as sns"
   ]
  },
  {
   "cell_type": "code",
   "execution_count": 12,
   "metadata": {},
   "outputs": [],
   "source": [
    "sim_list = lift(splitbrandXBrandLiftWordList,clean_data['message_only_models_no_stopwords_unique_brand'],stackedFrequencyList)"
   ]
  },
  {
   "cell_type": "code",
   "execution_count": 13,
   "metadata": {},
   "outputs": [
    {
     "data": {
      "text/plain": [
       "<matplotlib.axes._subplots.AxesSubplot at 0x1f7c8e627c8>"
      ]
     },
     "execution_count": 13,
     "metadata": {},
     "output_type": "execute_result"
    },
    {
     "data": {
      "image/png": "[encoded data removed]",
      "text/plain": [
       "<Figure size 1080x648 with 2 Axes>"
      ]
     },
     "metadata": {
      "needs_background": "light"
     },
     "output_type": "display_data"
    }
   ],
   "source": [
    "brand_list = []\n",
    "scores_list = []\n",
    "\n",
    "for i in range(0, len(sim_list)):\n",
    "    if i%2==0:\n",
    "        brand_list.append(sim_list[i])\n",
    "    else:\n",
    "        scores_list.append(sim_list[i])  \n",
    "        \n",
    "sim_pd = pd.DataFrame(index = top_10_brands['Brand'], columns= top_10_brands['Brand'])\n",
    "combined = pd.DataFrame()\n",
    "combined['brands'] = brand_list\n",
    "combined['scores'] = scores_list\n",
    "for val in range(0,len(combined['brands'])):\n",
    "    if combined['brands'][val][0]==combined['brands'][val][1]:\n",
    "        sim_pd.loc[combined['brands'][val][0],combined['brands'][val][1]] = np.nan\n",
    "    else:\n",
    "        sim_pd.loc[combined['brands'][val][0],combined['brands'][val][1]] = combined['scores'][val]\n",
    "        sim_pd.loc[combined['brands'][val][1],combined['brands'][val][0]] = combined['scores'][val]\n",
    "sim_pd.fillna(value=np.nan, inplace=True)  \n",
    "fig,ax = plt.subplots(figsize = (15,9))\n",
    "sns.heatmap(sim_pd, annot=True,fmt ='.4g')"
   ]
  },
  {
   "cell_type": "markdown",
   "metadata": {},
   "source": [
    "Below is the **Dissimilarity Matrix** between brands."
   ]
  },
  {
   "cell_type": "code",
   "execution_count": 14,
   "metadata": {},
   "outputs": [
    {
     "data": {
      "text/plain": [
       "<matplotlib.axes._subplots.AxesSubplot at 0x1f7c9938388>"
      ]
     },
     "execution_count": 14,
     "metadata": {},
     "output_type": "execute_result"
    },
    {
     "data": {
      "image/png": "[encoded data removed]",
      "text/plain": [
       "<Figure size 1080x648 with 2 Axes>"
      ]
     },
     "metadata": {
      "needs_background": "light"
     },
     "output_type": "display_data"
    }
   ],
   "source": [
    "dis = sim_pd.apply(np.reciprocal).copy()\n",
    "for num in range(0,len(dis.index.values)):\n",
    "    dis.iloc[num,num]=0\n",
    "fig,ax = plt.subplots(figsize = (15,9))\n",
    "sns.heatmap(dis, annot=True, fmt = '.4g')"
   ]
  },
  {
   "cell_type": "markdown",
   "metadata": {},
   "source": [
    "Below is the **MDS Map** of the brands."
   ]
  },
  {
   "cell_type": "code",
   "execution_count": 15,
   "metadata": {},
   "outputs": [
    {
     "data": {
      "image/png": "[encoded data removed]",
      "text/plain": [
       "<Figure size 432x288 with 1 Axes>"
      ]
     },
     "metadata": {},
     "output_type": "display_data"
    }
   ],
   "source": [
    "trial1 = manifold.MDS(n_components = 2,random_state=0, dissimilarity='precomputed')\n",
    "coords = trial1.fit_transform(dis)\n",
    "x = list()\n",
    "y = list()\n",
    "for i in range(0,len(coords)):\n",
    "  x.append(coords[i][0])\n",
    "  y.append(coords[i][1])\n",
    "plt.scatter(x,y)\n",
    "plt.xticks([])\n",
    "plt.yticks([])\n",
    "plt.title('MDS Plot')\n",
    "\n",
    "for i in range(0,len(coords)):\n",
    "  plt.annotate(list(sim_pd.index.values)[i],(x[i],y[i]))\n"
   ]
  },
  {
   "cell_type": "markdown",
   "metadata": {},
   "source": [
    "## Task B"
   ]
  },
  {
   "cell_type": "markdown",
   "metadata": {},
   "source": [
    "The two brands with the most highest lift values and lowest distance on the MDS plot are *Acura* and *Infiniti*. A useful insight to the brand managers of both brands would be that this similarity score indicates that they are each other's top competitors in their market. Both of their parent companies, Nissan and Honda respectively, are Japanese mass-producers of luxury sedans. The public shows similar brand perception and popularity between the two makes.\n",
    "\n",
    "This insight is relevant, as the MDS plot shows no data points in the center. This means that there is not one brand that is uniquely more similar to all other brands in the market. From a brand manager's perspective, an MDS plot with roughly equidistant points and lacks centrality indicates that consumers don't have one specific brand that they view as similar to most. The brand managers of Acura and Infiniti can use this information to position their brand strategy around each other, as opposed to one brand that is consistently a competitor to all makes in the entry-level luxury sedan market. "
   ]
  },
  {
   "cell_type": "markdown",
   "metadata": {},
   "source": [
    "## Task C"
   ]
  },
  {
   "cell_type": "code",
   "execution_count": 16,
   "metadata": {},
   "outputs": [],
   "source": [
    "#Read in the Brand X Attribute list to run lift\n",
    "attributeXBrandLiftList = pd.read_csv('attribute x brand list.csv')\n",
    "attributeXBrandLiftList = list(attributeXBrandLiftList['combo'])\n",
    "splitAttributeXBrandList = [attributeXBrandLiftList[i:i+2] for i in range(0, len(attributeXBrandLiftList), 2)]\n",
    "attribute_lift =lift(splitAttributeXBrandList,clean_data['message_only_models_no_stopwords_unique_brand'],stackedFrequencyList)"
   ]
  },
  {
   "cell_type": "code",
   "execution_count": 17,
   "metadata": {},
   "outputs": [],
   "source": [
    "brand_attribute_list = []\n",
    "scores_2_list = []\n",
    "\n",
    "for i in range(0, len(attribute_lift)):\n",
    "    if i%2==0:\n",
    "        brand_attribute_list.append(attribute_lift[i])\n",
    "    else:\n",
    "        scores_2_list.append(attribute_lift[i]) "
   ]
  },
  {
   "cell_type": "code",
   "execution_count": 18,
   "metadata": {},
   "outputs": [],
   "source": [
    "brand_att_pd = pd.DataFrame()"
   ]
  },
  {
   "cell_type": "code",
   "execution_count": 19,
   "metadata": {},
   "outputs": [],
   "source": [
    "combined = pd.DataFrame()\n",
    "combined['brands'] = brand_attribute_list\n",
    "combined['scores'] = scores_2_list"
   ]
  },
  {
   "cell_type": "code",
   "execution_count": 20,
   "metadata": {},
   "outputs": [],
   "source": [
    "for val in range(0,len(combined['brands'])):\n",
    "        brand_att_pd.loc[combined['brands'][val][1],combined['brands'][val][0]] = combined['scores'][val]"
   ]
  },
  {
   "cell_type": "code",
   "execution_count": 21,
   "metadata": {},
   "outputs": [
    {
     "data": {
      "text/plain": [
       "<matplotlib.axes._subplots.AxesSubplot at 0x1f7c88564c8>"
      ]
     },
     "execution_count": 21,
     "metadata": {},
     "output_type": "execute_result"
    },
    {
     "data": {
      "image/png": "[encoded data removed]",
      "text/plain": [
       "<Figure size 648x432 with 2 Axes>"
      ]
     },
     "metadata": {
      "needs_background": "light"
     },
     "output_type": "display_data"
    }
   ],
   "source": [
    "fig,ax = plt.subplots(figsize = (9,6))\n",
    "sns.heatmap(brand_att_pd.loc[['luxury','interior','quality','design','reliability'],['mercedes','lexus','bmw','audi','lincoln']],annot = True, fmt ='.4g')"
   ]
  },
  {
   "cell_type": "markdown",
   "metadata": {},
   "source": [
    "The five most frequently mentioned attributes of cars in the discussion are **luxury, interior, quality, design, and reliability,** in that order. The above matrix shows the association values between each of the five most common attributes have and the top five most popular brands. "
   ]
  },
  {
   "cell_type": "markdown",
   "metadata": {},
   "source": [
    "## Task D"
   ]
  },
  {
   "cell_type": "markdown",
   "metadata": {},
   "source": [
    "### Mercedes"
   ]
  },
  {
   "cell_type": "markdown",
   "metadata": {},
   "source": [
    "***Product Manager***   \n",
    "The product manager of Mercedes should use the above table to understand which of the most important attributes to consumers have the lowest assocation with their brand. Mercedes is ranked the lowest for design among the top five brands, indicating the need for a break from previous model design patterns. With that, they should focus on the luxurious and interior aspects of their next model, as Mercedes has the lowest associaions in the market for both of these attributes. Some actionable advice would be to design new models with increased interior space and finer material, as well as design the cabin for more amenities to increase customer perception of \"luxury\". \n",
    "\n",
    "***Marketing Manager***  \n",
    "Mercedes' marketing manager should orient their strategy toward playing into the attributes that customers tend to associate most with Mercedes, thereby playing into the brand's strenghts. Mercedes has the second highest association of these brands for quality, and they have the third highest association for reliability. In advertising, the marketing manager should emphasize these characteristics through positive messaging related to the materials and durability of their products.  "
   ]
  },
  {
   "cell_type": "markdown",
   "metadata": {},
   "source": [
    "### Lexus"
   ]
  },
  {
   "cell_type": "markdown",
   "metadata": {},
   "source": [
    "***Product Manager***   \n",
    "A product manager at Lexus needs to focus redesigning around both overall design as well as interior. For both attributes, Lexus has the second lowest level of association, placing directly behind BMW. If the product manager were able to further improve upon these attributes by following trends for both interior and overall design similar to Audi or Lincoln, Lexus’ customer perception would be substantially improved, as these are the lowest association attributes for the brand itself.\n",
    "\n",
    "***Marketing Manager***  \n",
    "The highest attribute associations between Lexus are in reliability and quality, where the brand is the second and third most highly associated, respectively, trailing Lincoln in both cases. Lexus should lean heavily on these characteristics in advertising to potentially absorb a portion of Lincoln’s luxurious sedan markets share, since the differences in these attributes' lift values are realtively small. This strategy would be efficient, as the remaining attributes have substantially higher differences in lift, suggesting that marketing on reliability and quality may yield more realistic success. "
   ]
  },
  {
   "cell_type": "markdown",
   "metadata": {},
   "source": [
    "### BMW"
   ]
  },
  {
   "cell_type": "markdown",
   "metadata": {},
   "source": [
    "***Product Manager***    \n",
    "We would recommend that a BMW product manager focus on the quality and reliability of future products, as BMW's brand ranks lowest and second lowest, respectively, in these attribute association levels. This makes sense, as quality and reliability go hand-in-hand in customer perception of capabilitly and durability. This could be done by procuring higher quality engine parts, paints, and wheels, while also and ensuring opitmal customer service during service repaires to build higher levels of positive associations related to BMW and reliability.\n",
    "\n",
    "***Marketing Manager***  \n",
    "A BMW marketing manager to focus on the more positive aspects of BMW cars, which include luxury, interior, and design. These three attributes define BMW's brand perception in the first place as the interior of many BMW cars are what attract customers. Advertisements should display the luxury of BMW's interior design."
   ]
  },
  {
   "cell_type": "markdown",
   "metadata": {},
   "source": [
    "### Lincoln"
   ]
  },
  {
   "cell_type": "markdown",
   "metadata": {},
   "source": [
    "***Product Manager***   \n",
    "We would recommend that a Lincoln product manager focus on the luxurious aspects of future Lincoln cars. People do not tend to associate Lincoln with luxury as they might for the other 4 brands. This might include using higher quality material for upholstery and for the dashboard, or adding interior amenities. Relative to other brands, Lincoln has high association values for all other attributes, which means that a focus on luxurious design could establish consistent high values for all attributes. \n",
    "\n",
    "***Marketing Manager***    \n",
    "A Lincoln marketing manager should focus on the premier aspects of their cars, which include their reliability and design. Lincoln advertisements should display how reliable their vehicles, perhaps with metrics such as engine life, owner satisfaction, and fuel efficiency. Their advertisements should also display the exceptional exterior design. Since Lincoln is relatively close to Audi in the MDS plot as compared to the other top five brands, this strategy would also be efficient as Lincoln could potentially gain higher a association value for design than Audi and solidify an even higher lift for reliability than Audi, giving Lincoln potential to gain market share. "
   ]
  },
  {
   "cell_type": "markdown",
   "metadata": {},
   "source": [
    "### Audi"
   ]
  },
  {
   "cell_type": "markdown",
   "metadata": {},
   "source": [
    "***Product Manager***     \n",
    "An Audi product manager should look at this analysis and wonder why their reliability ranks the worst among the 4 other popular car brands, while ranking the best in luxury, interior, quality and design. Audi clearly takes care of the aesthetics of their cars and build quality, but when it comes to reliability it seems like they are lacking quite a bit. Examples of improving reliability could be importing or building very high quality engine parts and combustion engines and quality transmission fluid.\n",
    "\n",
    "***Marketing Manager***   \n",
    "We would recommend an Audi marketing manager to focus on any aspect of luxury, interior, quality, and design. Advertisements should include high quality displays of Audi's exterior and interior. To increase customer perception of reliability, considering that the only attribute for which Audi doesn't have the highst lift value is reliability, Audi advertisements should include any product improvements or features that express sentiment of durability or useability. "
   ]
  },
  {
   "cell_type": "markdown",
   "metadata": {},
   "source": [
    "## Task E"
   ]
  },
  {
   "cell_type": "markdown",
   "metadata": {},
   "source": [
    "We measured the \"aspirational\" quality of a car by creating a list of phrases that had hints of aspiration or desire. This list can be seen below."
   ]
  },
  {
   "cell_type": "code",
   "execution_count": 22,
   "metadata": {},
   "outputs": [
    {
     "data": {
      "text/html": [
       "<div>\n",
       "<style scoped>\n",
       "    .dataframe tbody tr th:only-of-type {\n",
       "        vertical-align: middle;\n",
       "    }\n",
       "\n",
       "    .dataframe tbody tr th {\n",
       "        vertical-align: top;\n",
       "    }\n",
       "\n",
       "    .dataframe thead th {\n",
       "        text-align: right;\n",
       "    }\n",
       "</style>\n",
       "<table border=\"1\" class=\"dataframe\">\n",
       "  <thead>\n",
       "    <tr style=\"text-align: right;\">\n",
       "      <th></th>\n",
       "      <th>quality</th>\n",
       "      <th>terms</th>\n",
       "    </tr>\n",
       "  </thead>\n",
       "  <tbody>\n",
       "    <tr>\n",
       "      <th>57</th>\n",
       "      <td>aspiration</td>\n",
       "      <td>demanding for</td>\n",
       "    </tr>\n",
       "    <tr>\n",
       "      <th>58</th>\n",
       "      <td>aspiration</td>\n",
       "      <td>hoping for</td>\n",
       "    </tr>\n",
       "    <tr>\n",
       "      <th>59</th>\n",
       "      <td>aspiration</td>\n",
       "      <td>fancying to</td>\n",
       "    </tr>\n",
       "    <tr>\n",
       "      <th>60</th>\n",
       "      <td>aspiration</td>\n",
       "      <td>sight for</td>\n",
       "    </tr>\n",
       "    <tr>\n",
       "      <th>61</th>\n",
       "      <td>aspiration</td>\n",
       "      <td>thirsting for</td>\n",
       "    </tr>\n",
       "    <tr>\n",
       "      <th>62</th>\n",
       "      <td>aspiration</td>\n",
       "      <td>urging to</td>\n",
       "    </tr>\n",
       "    <tr>\n",
       "      <th>63</th>\n",
       "      <td>aspiration</td>\n",
       "      <td>might buy</td>\n",
       "    </tr>\n",
       "    <tr>\n",
       "      <th>64</th>\n",
       "      <td>aspiration</td>\n",
       "      <td>might want</td>\n",
       "    </tr>\n",
       "    <tr>\n",
       "      <th>65</th>\n",
       "      <td>aspiration</td>\n",
       "      <td>would like</td>\n",
       "    </tr>\n",
       "    <tr>\n",
       "      <th>66</th>\n",
       "      <td>aspiration</td>\n",
       "      <td>test drive</td>\n",
       "    </tr>\n",
       "  </tbody>\n",
       "</table>\n",
       "</div>"
      ],
      "text/plain": [
       "       quality           terms\n",
       "57  aspiration   demanding for\n",
       "58  aspiration      hoping for\n",
       "59  aspiration     fancying to\n",
       "60  aspiration       sight for\n",
       "61  aspiration  thirsting for \n",
       "62  aspiration       urging to\n",
       "63  aspiration       might buy\n",
       "64  aspiration      might want\n",
       "65  aspiration      would like\n",
       "66  aspiration      test drive"
      ]
     },
     "execution_count": 22,
     "metadata": {},
     "output_type": "execute_result"
    }
   ],
   "source": [
    "task_e_words = pd.read_csv('aspirational_words.csv')\n",
    "task_e_words.tail(10) "
   ]
  },
  {
   "cell_type": "markdown",
   "metadata": {},
   "source": [
    "We then added the word \"aspiration\" to the end of comments in which aspirational bigrams were present and removed multiple instances of the word from each comment. We did a lift analysis by these five car brands with respect to the number of times \"aspiration\" appeared. "
   ]
  },
  {
   "cell_type": "code",
   "execution_count": 23,
   "metadata": {},
   "outputs": [],
   "source": [
    "def replace_aspirational_terms(sentence):\n",
    "  sentence = str(sentence)\n",
    "  sentence = sentence.lower()\n",
    "  sentence = re.split('\\s|,|\\.',sentence)\n",
    "  sentence = ' '.join(sentence)\n",
    "\n",
    "  for i in range(0,len(list(task_e_words['terms']))):\n",
    "    if list(task_e_words['terms'])[i] in sentence:\n",
    "      sentence = sentence+' aspiration'\n",
    "    else:\n",
    "      pass\n",
    "  \n",
    "  if 'aspiration' in sentence:\n",
    "    sentence = sentence.split()\n",
    "    count_aspiration = sentence.count('aspiration')\n",
    "    sentence = ' '.join(sentence[0:-1*count_aspiration+1])\n",
    "  \n",
    "  return sentence"
   ]
  },
  {
   "cell_type": "code",
   "execution_count": 24,
   "metadata": {},
   "outputs": [
    {
     "data": {
      "text/html": [
       "<div>\n",
       "<style scoped>\n",
       "    .dataframe tbody tr th:only-of-type {\n",
       "        vertical-align: middle;\n",
       "    }\n",
       "\n",
       "    .dataframe tbody tr th {\n",
       "        vertical-align: top;\n",
       "    }\n",
       "\n",
       "    .dataframe thead th {\n",
       "        text-align: right;\n",
       "    }\n",
       "</style>\n",
       "<table border=\"1\" class=\"dataframe\">\n",
       "  <thead>\n",
       "    <tr style=\"text-align: right;\">\n",
       "      <th></th>\n",
       "      <th>date</th>\n",
       "      <th>userid</th>\n",
       "      <th>message</th>\n",
       "      <th>message_with_aspiration</th>\n",
       "      <th>with_aspiration_and_brand</th>\n",
       "      <th>with_aspiration_and_brand_mentioned_once</th>\n",
       "    </tr>\n",
       "  </thead>\n",
       "  <tbody>\n",
       "    <tr>\n",
       "      <th>0</th>\n",
       "      <td>November 23, 1999 6:20AM</td>\n",
       "      <td>enigma23</td>\n",
       "      <td>All great cars, so let the discussions begin!!!</td>\n",
       "      <td>all great cars  so let the discussions begin!!!</td>\n",
       "      <td>all great cars  so let the discussions begin!!!</td>\n",
       "      <td>all great cars so let the discussions begin!!!</td>\n",
       "    </tr>\n",
       "    <tr>\n",
       "      <th>1</th>\n",
       "      <td>November 27, 1999 5:29AM</td>\n",
       "      <td>merc1</td>\n",
       "      <td>I guess no one wants to talk anymore huh?\\n\\nM</td>\n",
       "      <td>i guess no one wants to talk anymore huh?  m</td>\n",
       "      <td>i guess no one wants to talk anymore huh?  m</td>\n",
       "      <td>i guess no one wants to talk anymore huh? m</td>\n",
       "    </tr>\n",
       "    <tr>\n",
       "      <th>2</th>\n",
       "      <td>November 27, 1999 3:17PM</td>\n",
       "      <td>bmwboys</td>\n",
       "      <td>I was talking wiht a friend of mine about this...</td>\n",
       "      <td>i was talking wiht a friend of mine about this...</td>\n",
       "      <td>i was talking wiht a friend of mine about this...</td>\n",
       "      <td>i was talking wiht a friend of mine about this...</td>\n",
       "    </tr>\n",
       "    <tr>\n",
       "      <th>3</th>\n",
       "      <td>November 27, 1999 6:29PM</td>\n",
       "      <td>bernard1</td>\n",
       "      <td>Currently we own a vehicle from Lexus, both of...</td>\n",
       "      <td>currently we own a vehicle from lexus  both of...</td>\n",
       "      <td>currently we own a vehicle from lexus  both of...</td>\n",
       "      <td>currently we own a vehicle from lexus both of ...</td>\n",
       "    </tr>\n",
       "    <tr>\n",
       "      <th>4</th>\n",
       "      <td>November 27, 1999 9:40PM</td>\n",
       "      <td>merc1</td>\n",
       "      <td>What \"toys\" does the LS400 offer that are not ...</td>\n",
       "      <td>what \"toys\" does the ls400 offer that are not ...</td>\n",
       "      <td>what \"toys\" does the lexus offer that are not ...</td>\n",
       "      <td>what \"toys\" does the lexus offer that are not ...</td>\n",
       "    </tr>\n",
       "  </tbody>\n",
       "</table>\n",
       "</div>"
      ],
      "text/plain": [
       "                       date    userid  \\\n",
       "0  November 23, 1999 6:20AM  enigma23   \n",
       "1  November 27, 1999 5:29AM     merc1   \n",
       "2  November 27, 1999 3:17PM   bmwboys   \n",
       "3  November 27, 1999 6:29PM  bernard1   \n",
       "4  November 27, 1999 9:40PM     merc1   \n",
       "\n",
       "                                             message  \\\n",
       "0    All great cars, so let the discussions begin!!!   \n",
       "1     I guess no one wants to talk anymore huh?\\n\\nM   \n",
       "2  I was talking wiht a friend of mine about this...   \n",
       "3  Currently we own a vehicle from Lexus, both of...   \n",
       "4  What \"toys\" does the LS400 offer that are not ...   \n",
       "\n",
       "                             message_with_aspiration  \\\n",
       "0    all great cars  so let the discussions begin!!!   \n",
       "1       i guess no one wants to talk anymore huh?  m   \n",
       "2  i was talking wiht a friend of mine about this...   \n",
       "3  currently we own a vehicle from lexus  both of...   \n",
       "4  what \"toys\" does the ls400 offer that are not ...   \n",
       "\n",
       "                           with_aspiration_and_brand  \\\n",
       "0    all great cars  so let the discussions begin!!!   \n",
       "1       i guess no one wants to talk anymore huh?  m   \n",
       "2  i was talking wiht a friend of mine about this...   \n",
       "3  currently we own a vehicle from lexus  both of...   \n",
       "4  what \"toys\" does the lexus offer that are not ...   \n",
       "\n",
       "            with_aspiration_and_brand_mentioned_once  \n",
       "0     all great cars so let the discussions begin!!!  \n",
       "1        i guess no one wants to talk anymore huh? m  \n",
       "2  i was talking wiht a friend of mine about this...  \n",
       "3  currently we own a vehicle from lexus both of ...  \n",
       "4  what \"toys\" does the lexus offer that are not ...  "
      ]
     },
     "execution_count": 24,
     "metadata": {},
     "output_type": "execute_result"
    }
   ],
   "source": [
    "raw_aspiration_data = pd.read_csv('HW1_Data_v2.csv',index_col=[0])\n",
    "raw_aspiration_data['message_with_aspiration'] = raw_aspiration_data['message'].map(replace_aspirational_terms)\n",
    "raw_aspiration_data['with_aspiration_and_brand'] = raw_aspiration_data['message_with_aspiration'].map(convert_model_to_brand)\n",
    "raw_aspiration_data['with_aspiration_and_brand_mentioned_once'] = raw_aspiration_data['with_aspiration_and_brand'].map(rid_mult_mentions)\n",
    "raw_aspiration_data.head()"
   ]
  },
  {
   "cell_type": "code",
   "execution_count": 25,
   "metadata": {},
   "outputs": [],
   "source": [
    "word_frequency_aspiration = raw_aspiration_data.with_aspiration_and_brand_mentioned_once.str.split(expand=True).stack().value_counts()\n",
    "word_frequency_aspiration.to_csv(\"hw_1_word_frequency_with_aspiration.csv\")"
   ]
  },
  {
   "cell_type": "markdown",
   "metadata": {},
   "source": [
    "We then created a Frequency list including \"aspiration\". Stopwords were not removed here, as the aspiration bigram synonyms themselves included terms such as \"to\"."
   ]
  },
  {
   "cell_type": "code",
   "execution_count": 26,
   "metadata": {},
   "outputs": [
    {
     "data": {
      "text/html": [
       "<div>\n",
       "<style scoped>\n",
       "    .dataframe tbody tr th:only-of-type {\n",
       "        vertical-align: middle;\n",
       "    }\n",
       "\n",
       "    .dataframe tbody tr th {\n",
       "        vertical-align: top;\n",
       "    }\n",
       "\n",
       "    .dataframe thead th {\n",
       "        text-align: right;\n",
       "    }\n",
       "</style>\n",
       "<table border=\"1\" class=\"dataframe\">\n",
       "  <thead>\n",
       "    <tr style=\"text-align: right;\">\n",
       "      <th></th>\n",
       "      <th>Unnamed: 0</th>\n",
       "      <th>0</th>\n",
       "    </tr>\n",
       "  </thead>\n",
       "  <tbody>\n",
       "    <tr>\n",
       "      <th>0</th>\n",
       "      <td>the</td>\n",
       "      <td>26202</td>\n",
       "    </tr>\n",
       "    <tr>\n",
       "      <th>1</th>\n",
       "      <td>a</td>\n",
       "      <td>10721</td>\n",
       "    </tr>\n",
       "    <tr>\n",
       "      <th>2</th>\n",
       "      <td>and</td>\n",
       "      <td>10015</td>\n",
       "    </tr>\n",
       "    <tr>\n",
       "      <th>3</th>\n",
       "      <td>to</td>\n",
       "      <td>9439</td>\n",
       "    </tr>\n",
       "    <tr>\n",
       "      <th>4</th>\n",
       "      <td>i</td>\n",
       "      <td>9233</td>\n",
       "    </tr>\n",
       "  </tbody>\n",
       "</table>\n",
       "</div>"
      ],
      "text/plain": [
       "  Unnamed: 0      0\n",
       "0        the  26202\n",
       "1          a  10721\n",
       "2        and  10015\n",
       "3         to   9439\n",
       "4          i   9233"
      ]
     },
     "execution_count": 26,
     "metadata": {},
     "output_type": "execute_result"
    }
   ],
   "source": [
    "frequency_list_aspiration = pd.read_csv('hw_1_word_frequency_with_aspiration.csv')\n",
    "frequency_list_aspiration[:5]"
   ]
  },
  {
   "cell_type": "code",
   "execution_count": 27,
   "metadata": {},
   "outputs": [],
   "source": [
    "frequency_list_aspiration = pd.read_csv('hw_1_word_frequency_with_aspiration.csv')\n",
    "frequency_list_aspiration = frequency_list_aspiration.rename(columns={'Unnamed: 0':'Word','0':'Count'})\n",
    "frequency_list_aspiration\n",
    "frequency_list_aspiration.set_index('Word')\n",
    "\n",
    "#Get Aspiration X Brand Association List\n",
    "stackedFrequencyListAspiration = frequency_list_aspiration.stack()\n",
    "brandXAspirationWordList = pd.read_csv('brand x aspiration list.csv')\n",
    "brandXAspirationWordList = list(brandXAspirationWordList['combo'])\n",
    "splitbrandXAspirationWordList = [brandXAspirationWordList[i:i+2] for i in range(0, len(brandXAspirationWordList), 2)]"
   ]
  },
  {
   "cell_type": "markdown",
   "metadata": {},
   "source": [
    "We then plotted the lift associations between each brand and \"aspiration\" to gauge which one had the highest co-mention frequency of its brand name and aspirational bigrams."
   ]
  },
  {
   "cell_type": "code",
   "execution_count": 28,
   "metadata": {},
   "outputs": [
    {
     "data": {
      "text/plain": [
       "<matplotlib.axes._subplots.AxesSubplot at 0x1f7cc726f08>"
      ]
     },
     "execution_count": 28,
     "metadata": {},
     "output_type": "execute_result"
    },
    {
     "data": {
      "image/png": "[encoded data removed]",
      "text/plain": [
       "<Figure size 432x288 with 2 Axes>"
      ]
     },
     "metadata": {
      "needs_background": "light"
     },
     "output_type": "display_data"
    }
   ],
   "source": [
    "aspirationXBrand = lift(splitbrandXAspirationWordList,raw_aspiration_data['with_aspiration_and_brand_mentioned_once'],stackedFrequencyListAspiration)\n",
    "aspirationXBrandDF_columns = []\n",
    "for i in range(0,len(aspirationXBrand),2):\n",
    "    aspirationXBrandDF_columns.append(str(aspirationXBrand[i][0]))\n",
    "aspirationXBrandDF = pd.DataFrame(columns = aspirationXBrandDF_columns, index = ['aspiration'])\n",
    "for lift_val in range(1,len(aspirationXBrand)+1,2):\n",
    "    aspirationXBrandDF.loc['aspiration',aspirationXBrand[lift_val-1][0]] = float(aspirationXBrand[lift_val])\n",
    "sns.heatmap(aspirationXBrandDF.T.astype(float) ,annot = True, fmt ='.4g')"
   ]
  },
  {
   "cell_type": "markdown",
   "metadata": {},
   "source": [
    "As the above plot displays, Audi has the highest lift value with the term, and therefore the highest aspirational value. This means that within forums of consumers with interest in entry-level luxury sedans, posts that inclue Audi's name most frequently include aspirational phrases that may be positively correlated to consumer interest or increasing demand, relative to the other four most popular brands. It leads by a substantial margin, with BMW coming in second. While Lincoln was relatively high in comparison to other brands in multiple attributes, they are lowest in aspirational value.   \n",
    "   \n",
    "Considering that within the list of the top five most popular brands Audi conceptually perceived to be most similar to BMW, having a high aspiration value could indicate that Audi has the potential to gain some of BMW's currently held market share. If consumers have indicated excitement towards the potential to purchase Audi products in the future, BMW should be concerned with differentiating themselves from Audi to avoid this potential increase in competition."
   ]
  },
  {
   "cell_type": "markdown",
   "metadata": {},
   "source": [
    "## Audi Consideration"
   ]
  },
  {
   "cell_type": "code",
   "execution_count": 29,
   "metadata": {},
   "outputs": [
    {
     "name": "stdout",
     "output_type": "stream",
     "text": [
      "No. of messages that contain Audi/Total no. of messages is 0.1451\n"
     ]
    }
   ],
   "source": [
    "word_frequency.loc['audi']/len(raw_data)\n",
    "print('No. of messages that contain Audi/Total no. of messages is {:.4f}'.format(word_frequency.loc['audi']/len(raw_data)))"
   ]
  },
  {
   "cell_type": "markdown",
   "metadata": {},
   "source": [
    "Considering the relatively low proportion of messages within the forum that include the word \"audi\", any concerns regarding bias towards Audi from the forum's subheading are mitigated."
   ]
  }
 ],
 "metadata": {
  "kernelspec": {
   "display_name": "Python 3",
   "language": "python",
   "name": "python3"
  },
  "language_info": {
   "codemirror_mode": {
    "name": "ipython",
    "version": 3
   },
   "file_extension": ".py",
   "mimetype": "text/x-python",
   "name": "python",
   "nbconvert_exporter": "python",
   "pygments_lexer": "ipython3",
   "version": "3.7.4"
  }
 },
 "nbformat": 4,
 "nbformat_minor": 4
}
